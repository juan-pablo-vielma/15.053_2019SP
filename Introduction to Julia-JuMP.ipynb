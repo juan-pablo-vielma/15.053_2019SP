{
 "cells": [
  {
   "cell_type": "markdown",
   "metadata": {},
   "source": [
    "# Recitation 2"
   ]
  },
  {
   "cell_type": "markdown",
   "metadata": {},
   "source": [
    "#### In this recitation, we will talk about using Julia and JuMP for developing optimization models."
   ]
  },
  {
   "cell_type": "code",
   "execution_count": 1,
   "metadata": {},
   "outputs": [
    {
     "name": "stdout",
     "output_type": "stream",
     "text": [
      "\u001b[32m\u001b[1m  Updating\u001b[22m\u001b[39m registry at `~/.julia/registries/General`\n",
      "\u001b[32m\u001b[1m  Updating\u001b[22m\u001b[39m git-repo `https://github.com/JuliaRegistries/General.git`\n",
      "\u001b[?25l\u001b[2K\u001b[?25h"
     ]
    }
   ],
   "source": [
    "import Pkg\n",
    "Pkg.activate(@__DIR__)\n",
    "Pkg.instantiate()"
   ]
  },
  {
   "cell_type": "code",
   "execution_count": 27,
   "metadata": {},
   "outputs": [],
   "source": [
    "using Clp, Cbc, JuMP, Ipopt, DataFrames, CSV"
   ]
  },
  {
   "cell_type": "code",
   "execution_count": 3,
   "metadata": {},
   "outputs": [
    {
     "data": {
      "text/plain": [
       ":Optimal"
      ]
     },
     "execution_count": 3,
     "metadata": {},
     "output_type": "execute_result"
    }
   ],
   "source": [
    "#JuMP Basics\n",
    "m = Model(solver=CbcSolver())\n",
    "@variable(m, x >= 0)\n",
    "@constraint(m, x <= 4)\n",
    "@objective(m, Max, x)\n",
    "solve(m)"
   ]
  },
  {
   "cell_type": "code",
   "execution_count": 4,
   "metadata": {},
   "outputs": [
    {
     "name": "stdout",
     "output_type": "stream",
     "text": [
      "The objective value is: 4.0\n",
      "The value of x is: 4.0\n"
     ]
    }
   ],
   "source": [
    "# Print the optimal value and the optimal solution of the optimization model m\n",
    "println(\"The objective value is: \",getobjectivevalue(m))\n",
    "println(\"The value of x is: \",getvalue(x))"
   ]
  },
  {
   "cell_type": "markdown",
   "metadata": {},
   "source": [
    "`@show` can be used for \"verbose\" operations "
   ]
  },
  {
   "cell_type": "code",
   "execution_count": 20,
   "metadata": {},
   "outputs": [
    {
     "data": {
      "text/plain": [
       "true"
      ]
     },
     "execution_count": 20,
     "metadata": {},
     "output_type": "execute_result"
    }
   ],
   "source": [
    "1 + 1 == 2"
   ]
  },
  {
   "cell_type": "code",
   "execution_count": 21,
   "metadata": {},
   "outputs": [
    {
     "name": "stdout",
     "output_type": "stream",
     "text": [
      "1 + 1 == 2 = true\n"
     ]
    },
    {
     "data": {
      "text/plain": [
       "true"
      ]
     },
     "execution_count": 21,
     "metadata": {},
     "output_type": "execute_result"
    }
   ],
   "source": [
    "@show  1 + 1 == 2"
   ]
  },
  {
   "cell_type": "code",
   "execution_count": 17,
   "metadata": {},
   "outputs": [
    {
     "name": "stdout",
     "output_type": "stream",
     "text": [
      "a = 4 = 4\n",
      "x = [1 2 3] = [1 2 3]\n",
      "y = [1 2 3; 4 5 6] = [1 2 3; 4 5 6]\n",
      "z = Array{Float64}(undef, 4) = [2.4109e-314, 2.4109e-314, 2.4109e-314, 2.2218e-314]\n",
      "w = Array{Int64}(undef, 4) = [1, 1, 4883562497, 0]\n",
      "x = rand() = 0.9492286124831835\n",
      "x = rand(2, 3) = [0.831532 0.493806 0.930269; 0.114036 0.423159 0.0357672]\n",
      "s = [\"hi\", \"bye\"] = [\"hi\", \"bye\"]\n",
      "q = false = false\n",
      "typeof(x) = Array{Float64,2}\n"
     ]
    },
    {
     "data": {
      "text/plain": [
       "Array{Float64,2}"
      ]
     },
     "execution_count": 17,
     "metadata": {},
     "output_type": "execute_result"
    }
   ],
   "source": [
    "#Variables\n",
    "\n",
    "@show a = 4                       # creates a variable with value 4\n",
    "@show x = [1 2 3]                 # creates x as an array of 3 elements\n",
    "@show y = [1 2 3; 4 5 6]          # creates y as a matrix of 3 by2\n",
    "@show z = Array{Float64}(undef, 4) # pre allocates z as an array of doubles \n",
    "@show w = Array{Int64}(undef, 4)   # pre allocates w as a vector of integers\n",
    "@show x = rand()                  # x is a random number between0,1\n",
    "@show x = rand(2,3)               # x is matrix with random number between 0,1\n",
    "@show s = [\"hi\",\"bye\"]            # s is an array with strings\n",
    "@show q = false                   # creates q as a Boolean with value false\n",
    "@show typeof(x)                   # gives the type of the variable x\n"
   ]
  },
  {
   "cell_type": "code",
   "execution_count": 10,
   "metadata": {},
   "outputs": [
    {
     "name": "stdout",
     "output_type": "stream",
     "text": [
      "x is less or equal than 4\n"
     ]
    }
   ],
   "source": [
    "#If/Else\n",
    "\n",
    "x = 3\n",
    "if x > 4\n",
    "    println(\"x is greater than \", 4) # prints in the screen\n",
    "else\n",
    "    println(\"x is less or equal than \", 4)\n",
    "end\n"
   ]
  },
  {
   "cell_type": "code",
   "execution_count": 11,
   "metadata": {},
   "outputs": [
    {
     "name": "stdout",
     "output_type": "stream",
     "text": [
      "s = 55\n"
     ]
    }
   ],
   "source": [
    "#Loops\n",
    "s = 0\n",
    "for i in 1:10\n",
    "    s = s + i\n",
    "end # calculates the sum of the numbers 1 to 10\n",
    "\n",
    "println(\"s = \",s)"
   ]
  },
  {
   "cell_type": "code",
   "execution_count": 12,
   "metadata": {},
   "outputs": [
    {
     "data": {
      "text/plain": [
       "(2.0, 3)"
      ]
     },
     "execution_count": 12,
     "metadata": {},
     "output_type": "execute_result"
    }
   ],
   "source": [
    "#Functions\n",
    "\n",
    "# function that gives the average and length of a vector\n",
    "\n",
    "\n",
    "function average(x)\n",
    "s = 0\n",
    "for i in 1:length(x)\n",
    "    s = s + x[i]\n",
    "end\n",
    "return s/length(x), length(x)\n",
    "end\n",
    "\n",
    "x = [1 2 3]\n",
    "(μ, l) = average(x)\n"
   ]
  },
  {
   "cell_type": "code",
   "execution_count": 13,
   "metadata": {},
   "outputs": [
    {
     "data": {
      "text/plain": [
       "\"ab\""
      ]
     },
     "execution_count": 13,
     "metadata": {},
     "output_type": "execute_result"
    }
   ],
   "source": [
    "#Strings\n",
    "string(\"a\", \"b\")     # concatenate strings"
   ]
  },
  {
   "cell_type": "code",
   "execution_count": 14,
   "metadata": {},
   "outputs": [
    {
     "name": "stdout",
     "output_type": "stream",
     "text": [
      "i = 1i = 1\n"
     ]
    }
   ],
   "source": [
    "#Print\n",
    "i=1\n",
    "print(\"i = \", i)     # prints \n",
    "println(\"i = \", i)   # prints and skips a line\n"
   ]
  },
  {
   "cell_type": "code",
   "execution_count": 16,
   "metadata": {},
   "outputs": [
    {
     "name": "stdout",
     "output_type": "stream",
     "text": [
      "a == b = false\n",
      "a <= b = true\n",
      "a >= b = false\n",
      "a < b = true\n",
      "a > b = false\n",
      "a != b = true\n",
      "a < b = true\n",
      "a > b = false\n"
     ]
    },
    {
     "data": {
      "text/plain": [
       "false"
      ]
     },
     "execution_count": 16,
     "metadata": {},
     "output_type": "execute_result"
    }
   ],
   "source": [
    "#Operators\n",
    "\n",
    "a=3;b=5;\n",
    "@show a==b\n",
    "@show a<=b\n",
    "@show a>=b\n",
    "@show a<b\n",
    "@show a>b\n",
    "@show a!=b\n",
    "@show a<b\n",
    "@show a>b"
   ]
  },
  {
   "cell_type": "code",
   "execution_count": 23,
   "metadata": {},
   "outputs": [
    {
     "name": "stdout",
     "output_type": "stream",
     "text": [
      "a = [1 2 3; 4 5 6; 7 8 9] = [1 2 3; 4 5 6; 7 8 9]\n",
      "b = a[:, 2] = [2, 5, 8]\n",
      "c = a[1:2, 2:3] = [2 3; 5 6]\n"
     ]
    },
    {
     "data": {
      "text/plain": [
       "2×2 Array{Int64,2}:\n",
       " 2  3\n",
       " 5  6"
      ]
     },
     "execution_count": 23,
     "metadata": {},
     "output_type": "execute_result"
    }
   ],
   "source": [
    "#Indexing\n",
    "@show a = [1 2 3; 4 5 6; 7 8 9]\n",
    "@show b = a[:,2]           # then b = [2; 5; 8]\n",
    "@show c = a[1:2,2:3]       # then c = [2 3; 5 6]"
   ]
  },
  {
   "cell_type": "code",
   "execution_count": 28,
   "metadata": {},
   "outputs": [
    {
     "data": {
      "text/html": [
       "<table class=\"data-frame\"><thead><tr><th></th><th>1</th><th>1_1</th></tr><tr><th></th><th>Int64⍰</th><th>Int64⍰</th></tr></thead><tbody><p>4 rows × 2 columns</p><tr><th>1</th><td>2</td><td>6</td></tr><tr><th>2</th><td>15</td><td>18</td></tr><tr><th>3</th><td>6</td><td>22</td></tr><tr><th>4</th><td>28</td><td>7</td></tr></tbody></table>"
      ],
      "text/latex": [
       "\\begin{tabular}{r|cc}\n",
       "\t& 1 & 1\\_1\\\\\n",
       "\t\\hline\n",
       "\t& Int64⍰ & Int64⍰\\\\\n",
       "\t\\hline\n",
       "\t1 & 2 & 6 \\\\\n",
       "\t2 & 15 & 18 \\\\\n",
       "\t3 & 6 & 22 \\\\\n",
       "\t4 & 28 & 7 \\\\\n",
       "\\end{tabular}\n"
      ],
      "text/plain": [
       "4×2 DataFrame\n",
       "│ Row │ 1      │ 1_1    │\n",
       "│     │ \u001b[90mInt64⍰\u001b[39m │ \u001b[90mInt64⍰\u001b[39m │\n",
       "├─────┼────────┼────────┤\n",
       "│ 1   │ 2      │ 6      │\n",
       "│ 2   │ 15     │ 18     │\n",
       "│ 3   │ 6      │ 22     │\n",
       "│ 4   │ 28     │ 7      │"
      ]
     },
     "execution_count": 28,
     "metadata": {},
     "output_type": "execute_result"
    }
   ],
   "source": [
    "#ReadCSV\n",
    "\n",
    "data_knapsack = CSV.read(\"knapsack_data.csv\") # file should be in same directory where Julia is running\n"
   ]
  },
  {
   "cell_type": "markdown",
   "metadata": {},
   "source": [
    "## Diet Problem"
   ]
  },
  {
   "cell_type": "code",
   "execution_count": 29,
   "metadata": {},
   "outputs": [
    {
     "name": "stdout",
     "output_type": "stream",
     "text": [
      "variable values: y: 1 dimensions:\n",
      "[   brownies] = 0.0\n",
      "[  ice cream] = 3.0000000000000004\n",
      "[       cola] = 0.9999999999999998\n",
      "[cheese cake] = 0.0\n",
      "Objetive value: 0.9\n"
     ]
    }
   ],
   "source": [
    "using JuMP\n",
    "\n",
    "#Define model \n",
    "m = Model(solver=CbcSolver())\n",
    "\n",
    "#Food available\n",
    "S = [\"brownies\",\"ice cream\",\"cola\",\"cheese cake\"]\n",
    "\n",
    "#Non-negativity\n",
    "@variable(m, y[S] >= 0)\n",
    "# @variable(m, y[S] >= 0, Int) #(the decision variables can be chosen to be integers)\n",
    "\n",
    "#Minimum calories\n",
    "@constraint(m, 400y[\"brownies\"] + 200y[\"ice cream\"] + 150y[\"cola\"] + 500y[\"cheese cake\"] >= 500)\n",
    "\n",
    "#At least 6 grams of chocolate\n",
    "@constraint(m, 3y[\"brownies\"] + 2y[\"ice cream\"] >= 6)\n",
    "\n",
    "#At least 10 grams of sugar\n",
    "@constraint(m, 2y[\"brownies\"] + 2y[\"ice cream\"] + 4y[\"cola\"] + 4y[\"cheese cake\"] >= 10)\n",
    "\n",
    "#At least 8 grams of fat\n",
    "@constraint(m, 2y[\"brownies\"] + 4y[\"ice cream\"] + 1y[\"cola\"] + 5y[\"cheese cake\"] >= 8)\n",
    "\n",
    "#Minimize cost of consumption\n",
    "@objective(m, Min, 0.5y[\"brownies\"] + 0.2y[\"ice cream\"] + 0.3y[\"cola\"] + 0.8y[\"cheese cake\"])\n",
    "\n",
    "\n",
    "#Solve the optimization problem\n",
    "solve(m)\n",
    "\n",
    "#Determine consumption amounts\n",
    "println(\"variable values: \", getvalue(y))\n",
    "\n",
    "#Determine optimal cost of consumption\n",
    "println(\"Objetive value: \", getobjectivevalue(m))"
   ]
  },
  {
   "cell_type": "markdown",
   "metadata": {},
   "source": [
    "## Knapsack Problem"
   ]
  },
  {
   "cell_type": "code",
   "execution_count": 31,
   "metadata": {},
   "outputs": [
    {
     "name": "stdout",
     "output_type": "stream",
     "text": [
      "variable values: [1.0, 1.0, 0.0, 1.0, 0.0]\n",
      "Objetive value: 29.0\n",
      "Knapsack weight: 9.0\n"
     ]
    }
   ],
   "source": [
    "using JuMP, Cbc\n",
    "\n",
    "#Define model\n",
    "m = Model(solver=CbcSolver())\n",
    "\n",
    "#Define capacity\n",
    "C = 11\n",
    "\n",
    "#Read data\n",
    "d_k = CSV.read(\"knapsack_data.csv\", header = false)\n",
    "\n",
    "#Weights from first column\n",
    "w=d_k[:,1]\n",
    "#w = [1 2 15 6 28]\n",
    "#Values from second column\n",
    "v=d_k[:,2]\n",
    "#v = [1 6 18 22 7]\n",
    "\n",
    "#Assign binary values to items\n",
    "@variable(m, x[1:5], Bin)\n",
    "\n",
    "#Constraint on total weight\n",
    "@constraint(m, sum(w[i]*x[i] for i in 1:5) <= C) \n",
    "\n",
    "#Maximize value from items\n",
    "@objective(m, Max, sum(v[i]*x[i] for i in 1:5))\n",
    "\n",
    "\n",
    "\n",
    "#Solve model\n",
    "solve(m)\n",
    "\n",
    "x_sol = getvalue(x)\n",
    "#Determine which items to carry \n",
    "println(\"variable values: \", x_sol)\n",
    "#Determine value from items carried\n",
    "println(\"Objetive value: \", getobjectivevalue(m))\n",
    "#Determine the weight of the knapsack\n",
    "println(\"Knapsack weight: \", x_sol'*w)"
   ]
  },
  {
   "cell_type": "markdown",
   "metadata": {},
   "source": [
    "## Data Frames"
   ]
  },
  {
   "cell_type": "code",
   "execution_count": 33,
   "metadata": {},
   "outputs": [
    {
     "data": {
      "text/plain": [
       "\"random2.csv\""
      ]
     },
     "execution_count": 33,
     "metadata": {},
     "output_type": "execute_result"
    }
   ],
   "source": [
    "using DataFrames\n",
    "\n",
    "df= CSV.read(\"random.csv\", separator=',')\n",
    "#We read in a (100,4) table of randomly generated integers\n",
    "\n",
    "CSV.write(\"random2.csv\",df, separator=',')"
   ]
  },
  {
   "cell_type": "code",
   "execution_count": 34,
   "metadata": {},
   "outputs": [
    {
     "data": {
      "text/plain": [
       "100-element Array{Union{Missing, Int64},1}:\n",
       "  0\n",
       "  1\n",
       "  2\n",
       "  3\n",
       "  4\n",
       "  5\n",
       "  6\n",
       "  7\n",
       "  8\n",
       "  9\n",
       " 10\n",
       " 11\n",
       " 12\n",
       "  ⋮\n",
       " 88\n",
       " 89\n",
       " 90\n",
       " 91\n",
       " 92\n",
       " 93\n",
       " 94\n",
       " 95\n",
       " 96\n",
       " 97\n",
       " 98\n",
       " 99"
      ]
     },
     "execution_count": 34,
     "metadata": {},
     "output_type": "execute_result"
    }
   ],
   "source": [
    "Column1=df[1]\n",
    "#Accessing an entire column by index"
   ]
  },
  {
   "cell_type": "code",
   "execution_count": 35,
   "metadata": {},
   "outputs": [
    {
     "data": {
      "text/html": [
       "<p>DataFrameRow</p><table class=\"data-frame\"><thead><tr><th></th><th>Index</th><th>A</th><th>B</th><th>C</th><th>D</th></tr><tr><th></th><th>Int64⍰</th><th>Int64⍰</th><th>Int64⍰</th><th>Int64⍰</th><th>Int64⍰</th></tr></thead><tbody><p>1 rows × 5 columns</p><tr><th>1</th><td>0</td><td>78</td><td>90</td><td>44</td><td>34</td></tr></tbody></table>"
      ],
      "text/latex": [
       "\\begin{tabular}{r|ccccc}\n",
       "\t& Index & A & B & C & D\\\\\n",
       "\t\\hline\n",
       "\t& Int64⍰ & Int64⍰ & Int64⍰ & Int64⍰ & Int64⍰\\\\\n",
       "\t\\hline\n",
       "\t1 & 0 & 78 & 90 & 44 & 34 \\\\\n",
       "\\end{tabular}\n"
      ],
      "text/plain": [
       "DataFrameRow\n",
       "│ Row │ Index  │ A      │ B      │ C      │ D      │\n",
       "│     │ \u001b[90mInt64⍰\u001b[39m │ \u001b[90mInt64⍰\u001b[39m │ \u001b[90mInt64⍰\u001b[39m │ \u001b[90mInt64⍰\u001b[39m │ \u001b[90mInt64⍰\u001b[39m │\n",
       "├─────┼────────┼────────┼────────┼────────┼────────┤\n",
       "│ 1   │ 0      │ 78     │ 90     │ 44     │ 34     │"
      ]
     },
     "execution_count": 35,
     "metadata": {},
     "output_type": "execute_result"
    }
   ],
   "source": [
    "Row1=df[1,:]\n",
    "#Accessing an entire row by index"
   ]
  },
  {
   "cell_type": "code",
   "execution_count": 36,
   "metadata": {},
   "outputs": [
    {
     "data": {
      "text/plain": [
       "0"
      ]
     },
     "execution_count": 36,
     "metadata": {},
     "output_type": "execute_result"
    }
   ],
   "source": [
    "Element1=df[1,1]\n",
    "#Accessing a specific element"
   ]
  },
  {
   "cell_type": "code",
   "execution_count": 37,
   "metadata": {},
   "outputs": [
    {
     "data": {
      "text/plain": [
       "3-element Array{Union{Missing, Int64},1}:\n",
       " 0\n",
       " 1\n",
       " 2"
      ]
     },
     "execution_count": 37,
     "metadata": {},
     "output_type": "execute_result"
    }
   ],
   "source": [
    "ColumnRange = df[1:3,1]\n",
    "#Accessing a range of a column"
   ]
  },
  {
   "cell_type": "code",
   "execution_count": 38,
   "metadata": {},
   "outputs": [
    {
     "data": {
      "text/html": [
       "<p>DataFrameRow</p><table class=\"data-frame\"><thead><tr><th></th><th>Index</th><th>A</th><th>B</th></tr><tr><th></th><th>Int64⍰</th><th>Int64⍰</th><th>Int64⍰</th></tr></thead><tbody><p>1 rows × 3 columns</p><tr><th>1</th><td>0</td><td>78</td><td>90</td></tr></tbody></table>"
      ],
      "text/latex": [
       "\\begin{tabular}{r|ccc}\n",
       "\t& Index & A & B\\\\\n",
       "\t\\hline\n",
       "\t& Int64⍰ & Int64⍰ & Int64⍰\\\\\n",
       "\t\\hline\n",
       "\t1 & 0 & 78 & 90 \\\\\n",
       "\\end{tabular}\n"
      ],
      "text/plain": [
       "DataFrameRow\n",
       "│ Row │ Index  │ A      │ B      │\n",
       "│     │ \u001b[90mInt64⍰\u001b[39m │ \u001b[90mInt64⍰\u001b[39m │ \u001b[90mInt64⍰\u001b[39m │\n",
       "├─────┼────────┼────────┼────────┤\n",
       "│ 1   │ 0      │ 78     │ 90     │"
      ]
     },
     "execution_count": 38,
     "metadata": {},
     "output_type": "execute_result"
    }
   ],
   "source": [
    "RowRange = df[1,1:3]\n",
    "#Accessing a range of a row"
   ]
  },
  {
   "cell_type": "code",
   "execution_count": 40,
   "metadata": {},
   "outputs": [
    {
     "data": {
      "text/html": [
       "<table class=\"data-frame\"><thead><tr><th></th><th>Index</th><th>A</th><th>B</th><th>C</th><th>D</th></tr><tr><th></th><th>Int64⍰</th><th>Int64⍰</th><th>Int64⍰</th><th>Int64⍰</th><th>Int64⍰</th></tr></thead><tbody><p>50 rows × 5 columns</p><tr><th>1</th><td>0</td><td>78</td><td>90</td><td>44</td><td>34</td></tr><tr><th>2</th><td>2</td><td>39</td><td>1</td><td>23</td><td>32</td></tr><tr><th>3</th><td>4</td><td>13</td><td>25</td><td>26</td><td>95</td></tr><tr><th>4</th><td>6</td><td>63</td><td>74</td><td>49</td><td>53</td></tr><tr><th>5</th><td>8</td><td>86</td><td>1</td><td>54</td><td>37</td></tr><tr><th>6</th><td>10</td><td>75</td><td>38</td><td>18</td><td>9</td></tr><tr><th>7</th><td>12</td><td>79</td><td>51</td><td>97</td><td>69</td></tr><tr><th>8</th><td>14</td><td>68</td><td>35</td><td>81</td><td>18</td></tr><tr><th>9</th><td>16</td><td>34</td><td>20</td><td>71</td><td>77</td></tr><tr><th>10</th><td>18</td><td>19</td><td>34</td><td>70</td><td>61</td></tr><tr><th>11</th><td>20</td><td>0</td><td>55</td><td>9</td><td>79</td></tr><tr><th>12</th><td>22</td><td>24</td><td>47</td><td>10</td><td>73</td></tr><tr><th>13</th><td>24</td><td>44</td><td>39</td><td>10</td><td>45</td></tr><tr><th>14</th><td>26</td><td>72</td><td>28</td><td>18</td><td>40</td></tr><tr><th>15</th><td>28</td><td>9</td><td>20</td><td>31</td><td>47</td></tr><tr><th>16</th><td>30</td><td>94</td><td>88</td><td>70</td><td>72</td></tr><tr><th>17</th><td>32</td><td>99</td><td>87</td><td>99</td><td>27</td></tr><tr><th>18</th><td>34</td><td>40</td><td>36</td><td>18</td><td>93</td></tr><tr><th>19</th><td>36</td><td>54</td><td>88</td><td>68</td><td>96</td></tr><tr><th>20</th><td>38</td><td>39</td><td>67</td><td>39</td><td>67</td></tr><tr><th>21</th><td>40</td><td>37</td><td>66</td><td>81</td><td>40</td></tr><tr><th>22</th><td>42</td><td>51</td><td>35</td><td>13</td><td>16</td></tr><tr><th>23</th><td>44</td><td>77</td><td>1</td><td>13</td><td>39</td></tr><tr><th>24</th><td>46</td><td>38</td><td>32</td><td>53</td><td>68</td></tr><tr><th>25</th><td>48</td><td>9</td><td>91</td><td>41</td><td>7</td></tr><tr><th>26</th><td>50</td><td>92</td><td>50</td><td>25</td><td>1</td></tr><tr><th>27</th><td>52</td><td>88</td><td>72</td><td>48</td><td>69</td></tr><tr><th>28</th><td>54</td><td>91</td><td>66</td><td>45</td><td>89</td></tr><tr><th>29</th><td>56</td><td>51</td><td>84</td><td>97</td><td>4</td></tr><tr><th>30</th><td>58</td><td>93</td><td>35</td><td>51</td><td>32</td></tr><tr><th>&vellip;</th><td>&vellip;</td><td>&vellip;</td><td>&vellip;</td><td>&vellip;</td><td>&vellip;</td></tr></tbody></table>"
      ],
      "text/latex": [
       "\\begin{tabular}{r|ccccc}\n",
       "\t& Index & A & B & C & D\\\\\n",
       "\t\\hline\n",
       "\t& Int64⍰ & Int64⍰ & Int64⍰ & Int64⍰ & Int64⍰\\\\\n",
       "\t\\hline\n",
       "\t1 & 0 & 78 & 90 & 44 & 34 \\\\\n",
       "\t2 & 2 & 39 & 1 & 23 & 32 \\\\\n",
       "\t3 & 4 & 13 & 25 & 26 & 95 \\\\\n",
       "\t4 & 6 & 63 & 74 & 49 & 53 \\\\\n",
       "\t5 & 8 & 86 & 1 & 54 & 37 \\\\\n",
       "\t6 & 10 & 75 & 38 & 18 & 9 \\\\\n",
       "\t7 & 12 & 79 & 51 & 97 & 69 \\\\\n",
       "\t8 & 14 & 68 & 35 & 81 & 18 \\\\\n",
       "\t9 & 16 & 34 & 20 & 71 & 77 \\\\\n",
       "\t10 & 18 & 19 & 34 & 70 & 61 \\\\\n",
       "\t11 & 20 & 0 & 55 & 9 & 79 \\\\\n",
       "\t12 & 22 & 24 & 47 & 10 & 73 \\\\\n",
       "\t13 & 24 & 44 & 39 & 10 & 45 \\\\\n",
       "\t14 & 26 & 72 & 28 & 18 & 40 \\\\\n",
       "\t15 & 28 & 9 & 20 & 31 & 47 \\\\\n",
       "\t16 & 30 & 94 & 88 & 70 & 72 \\\\\n",
       "\t17 & 32 & 99 & 87 & 99 & 27 \\\\\n",
       "\t18 & 34 & 40 & 36 & 18 & 93 \\\\\n",
       "\t19 & 36 & 54 & 88 & 68 & 96 \\\\\n",
       "\t20 & 38 & 39 & 67 & 39 & 67 \\\\\n",
       "\t21 & 40 & 37 & 66 & 81 & 40 \\\\\n",
       "\t22 & 42 & 51 & 35 & 13 & 16 \\\\\n",
       "\t23 & 44 & 77 & 1 & 13 & 39 \\\\\n",
       "\t24 & 46 & 38 & 32 & 53 & 68 \\\\\n",
       "\t25 & 48 & 9 & 91 & 41 & 7 \\\\\n",
       "\t26 & 50 & 92 & 50 & 25 & 1 \\\\\n",
       "\t27 & 52 & 88 & 72 & 48 & 69 \\\\\n",
       "\t28 & 54 & 91 & 66 & 45 & 89 \\\\\n",
       "\t29 & 56 & 51 & 84 & 97 & 4 \\\\\n",
       "\t30 & 58 & 93 & 35 & 51 & 32 \\\\\n",
       "\t$\\dots$ & $\\dots$ & $\\dots$ & $\\dots$ & $\\dots$ & $\\dots$ \\\\\n",
       "\\end{tabular}\n"
      ],
      "text/plain": [
       "50×5 DataFrame\n",
       "│ Row │ Index  │ A      │ B      │ C      │ D      │\n",
       "│     │ \u001b[90mInt64⍰\u001b[39m │ \u001b[90mInt64⍰\u001b[39m │ \u001b[90mInt64⍰\u001b[39m │ \u001b[90mInt64⍰\u001b[39m │ \u001b[90mInt64⍰\u001b[39m │\n",
       "├─────┼────────┼────────┼────────┼────────┼────────┤\n",
       "│ 1   │ 0      │ 78     │ 90     │ 44     │ 34     │\n",
       "│ 2   │ 2      │ 39     │ 1      │ 23     │ 32     │\n",
       "│ 3   │ 4      │ 13     │ 25     │ 26     │ 95     │\n",
       "│ 4   │ 6      │ 63     │ 74     │ 49     │ 53     │\n",
       "│ 5   │ 8      │ 86     │ 1      │ 54     │ 37     │\n",
       "│ 6   │ 10     │ 75     │ 38     │ 18     │ 9      │\n",
       "│ 7   │ 12     │ 79     │ 51     │ 97     │ 69     │\n",
       "│ 8   │ 14     │ 68     │ 35     │ 81     │ 18     │\n",
       "│ 9   │ 16     │ 34     │ 20     │ 71     │ 77     │\n",
       "│ 10  │ 18     │ 19     │ 34     │ 70     │ 61     │\n",
       "⋮\n",
       "│ 40  │ 78     │ 43     │ 90     │ 17     │ 75     │\n",
       "│ 41  │ 80     │ 77     │ 70     │ 99     │ 5      │\n",
       "│ 42  │ 82     │ 59     │ 13     │ 13     │ 52     │\n",
       "│ 43  │ 84     │ 83     │ 83     │ 73     │ 9      │\n",
       "│ 44  │ 86     │ 57     │ 78     │ 26     │ 68     │\n",
       "│ 45  │ 88     │ 80     │ 85     │ 17     │ 35     │\n",
       "│ 46  │ 90     │ 65     │ 77     │ 37     │ 23     │\n",
       "│ 47  │ 92     │ 14     │ 27     │ 20     │ 82     │\n",
       "│ 48  │ 94     │ 63     │ 16     │ 9      │ 52     │\n",
       "│ 49  │ 96     │ 20     │ 60     │ 53     │ 3      │\n",
       "│ 50  │ 98     │ 24     │ 6      │ 6      │ 46     │"
      ]
     },
     "execution_count": 40,
     "metadata": {},
     "output_type": "execute_result"
    }
   ],
   "source": [
    "ColumnEven = df[df[1] .%2 .==0,:]\n",
    "#Accessing column ranges by condition, even numbers"
   ]
  },
  {
   "cell_type": "code",
   "execution_count": 41,
   "metadata": {},
   "outputs": [
    {
     "data": {
      "text/plain": [
       "(50, 5)"
      ]
     },
     "execution_count": 41,
     "metadata": {},
     "output_type": "execute_result"
    }
   ],
   "source": [
    "(rows, cols)=size(ColumnEven)"
   ]
  },
  {
   "cell_type": "code",
   "execution_count": 43,
   "metadata": {},
   "outputs": [
    {
     "data": {
      "text/plain": [
       "54.24"
      ]
     },
     "execution_count": 43,
     "metadata": {},
     "output_type": "execute_result"
    }
   ],
   "source": [
    "using Statistics\n",
    "mean(df[:A])\n",
    "#Determine mean of specific column in dataframe"
   ]
  },
  {
   "cell_type": "code",
   "execution_count": 45,
   "metadata": {},
   "outputs": [
    {
     "data": {
      "text/html": [
       "<table class=\"data-frame\"><thead><tr><th></th><th>Index</th><th>A</th><th>B</th><th>C</th><th>D</th></tr><tr><th></th><th>Int64⍰</th><th>Int64⍰</th><th>Int64⍰</th><th>Int64⍰</th><th>Int64⍰</th></tr></thead><tbody><p>100 rows × 5 columns</p><tr><th>1</th><td>15</td><td>99</td><td>15</td><td>52</td><td>29</td></tr><tr><th>2</th><td>32</td><td>99</td><td>87</td><td>99</td><td>27</td></tr><tr><th>3</th><td>11</td><td>98</td><td>40</td><td>48</td><td>71</td></tr><tr><th>4</th><td>63</td><td>98</td><td>79</td><td>12</td><td>15</td></tr><tr><th>5</th><td>95</td><td>98</td><td>29</td><td>36</td><td>30</td></tr><tr><th>6</th><td>30</td><td>94</td><td>88</td><td>70</td><td>72</td></tr><tr><th>7</th><td>13</td><td>93</td><td>97</td><td>18</td><td>53</td></tr><tr><th>8</th><td>58</td><td>93</td><td>35</td><td>51</td><td>32</td></tr><tr><th>9</th><td>50</td><td>92</td><td>50</td><td>25</td><td>1</td></tr><tr><th>10</th><td>66</td><td>92</td><td>52</td><td>99</td><td>64</td></tr><tr><th>11</th><td>87</td><td>92</td><td>43</td><td>52</td><td>98</td></tr><tr><th>12</th><td>54</td><td>91</td><td>66</td><td>45</td><td>89</td></tr><tr><th>13</th><td>64</td><td>90</td><td>85</td><td>63</td><td>27</td></tr><tr><th>14</th><td>23</td><td>89</td><td>74</td><td>15</td><td>74</td></tr><tr><th>15</th><td>49</td><td>88</td><td>56</td><td>38</td><td>30</td></tr><tr><th>16</th><td>52</td><td>88</td><td>72</td><td>48</td><td>69</td></tr><tr><th>17</th><td>69</td><td>87</td><td>16</td><td>42</td><td>99</td></tr><tr><th>18</th><td>8</td><td>86</td><td>1</td><td>54</td><td>37</td></tr><tr><th>19</th><td>85</td><td>86</td><td>49</td><td>29</td><td>62</td></tr><tr><th>20</th><td>61</td><td>85</td><td>66</td><td>77</td><td>71</td></tr><tr><th>21</th><td>81</td><td>84</td><td>69</td><td>69</td><td>95</td></tr><tr><th>22</th><td>39</td><td>83</td><td>47</td><td>2</td><td>71</td></tr><tr><th>23</th><td>60</td><td>83</td><td>78</td><td>71</td><td>87</td></tr><tr><th>24</th><td>84</td><td>83</td><td>83</td><td>73</td><td>9</td></tr><tr><th>25</th><td>3</td><td>82</td><td>12</td><td>30</td><td>30</td></tr><tr><th>26</th><td>88</td><td>80</td><td>85</td><td>17</td><td>35</td></tr><tr><th>27</th><td>12</td><td>79</td><td>51</td><td>97</td><td>69</td></tr><tr><th>28</th><td>53</td><td>79</td><td>79</td><td>77</td><td>22</td></tr><tr><th>29</th><td>0</td><td>78</td><td>90</td><td>44</td><td>34</td></tr><tr><th>30</th><td>70</td><td>78</td><td>14</td><td>8</td><td>64</td></tr><tr><th>&vellip;</th><td>&vellip;</td><td>&vellip;</td><td>&vellip;</td><td>&vellip;</td><td>&vellip;</td></tr></tbody></table>"
      ],
      "text/latex": [
       "\\begin{tabular}{r|ccccc}\n",
       "\t& Index & A & B & C & D\\\\\n",
       "\t\\hline\n",
       "\t& Int64⍰ & Int64⍰ & Int64⍰ & Int64⍰ & Int64⍰\\\\\n",
       "\t\\hline\n",
       "\t1 & 15 & 99 & 15 & 52 & 29 \\\\\n",
       "\t2 & 32 & 99 & 87 & 99 & 27 \\\\\n",
       "\t3 & 11 & 98 & 40 & 48 & 71 \\\\\n",
       "\t4 & 63 & 98 & 79 & 12 & 15 \\\\\n",
       "\t5 & 95 & 98 & 29 & 36 & 30 \\\\\n",
       "\t6 & 30 & 94 & 88 & 70 & 72 \\\\\n",
       "\t7 & 13 & 93 & 97 & 18 & 53 \\\\\n",
       "\t8 & 58 & 93 & 35 & 51 & 32 \\\\\n",
       "\t9 & 50 & 92 & 50 & 25 & 1 \\\\\n",
       "\t10 & 66 & 92 & 52 & 99 & 64 \\\\\n",
       "\t11 & 87 & 92 & 43 & 52 & 98 \\\\\n",
       "\t12 & 54 & 91 & 66 & 45 & 89 \\\\\n",
       "\t13 & 64 & 90 & 85 & 63 & 27 \\\\\n",
       "\t14 & 23 & 89 & 74 & 15 & 74 \\\\\n",
       "\t15 & 49 & 88 & 56 & 38 & 30 \\\\\n",
       "\t16 & 52 & 88 & 72 & 48 & 69 \\\\\n",
       "\t17 & 69 & 87 & 16 & 42 & 99 \\\\\n",
       "\t18 & 8 & 86 & 1 & 54 & 37 \\\\\n",
       "\t19 & 85 & 86 & 49 & 29 & 62 \\\\\n",
       "\t20 & 61 & 85 & 66 & 77 & 71 \\\\\n",
       "\t21 & 81 & 84 & 69 & 69 & 95 \\\\\n",
       "\t22 & 39 & 83 & 47 & 2 & 71 \\\\\n",
       "\t23 & 60 & 83 & 78 & 71 & 87 \\\\\n",
       "\t24 & 84 & 83 & 83 & 73 & 9 \\\\\n",
       "\t25 & 3 & 82 & 12 & 30 & 30 \\\\\n",
       "\t26 & 88 & 80 & 85 & 17 & 35 \\\\\n",
       "\t27 & 12 & 79 & 51 & 97 & 69 \\\\\n",
       "\t28 & 53 & 79 & 79 & 77 & 22 \\\\\n",
       "\t29 & 0 & 78 & 90 & 44 & 34 \\\\\n",
       "\t30 & 70 & 78 & 14 & 8 & 64 \\\\\n",
       "\t$\\dots$ & $\\dots$ & $\\dots$ & $\\dots$ & $\\dots$ & $\\dots$ \\\\\n",
       "\\end{tabular}\n"
      ],
      "text/plain": [
       "100×5 DataFrame\n",
       "│ Row │ Index  │ A      │ B      │ C      │ D      │\n",
       "│     │ \u001b[90mInt64⍰\u001b[39m │ \u001b[90mInt64⍰\u001b[39m │ \u001b[90mInt64⍰\u001b[39m │ \u001b[90mInt64⍰\u001b[39m │ \u001b[90mInt64⍰\u001b[39m │\n",
       "├─────┼────────┼────────┼────────┼────────┼────────┤\n",
       "│ 1   │ 15     │ 99     │ 15     │ 52     │ 29     │\n",
       "│ 2   │ 32     │ 99     │ 87     │ 99     │ 27     │\n",
       "│ 3   │ 11     │ 98     │ 40     │ 48     │ 71     │\n",
       "│ 4   │ 63     │ 98     │ 79     │ 12     │ 15     │\n",
       "│ 5   │ 95     │ 98     │ 29     │ 36     │ 30     │\n",
       "│ 6   │ 30     │ 94     │ 88     │ 70     │ 72     │\n",
       "│ 7   │ 13     │ 93     │ 97     │ 18     │ 53     │\n",
       "│ 8   │ 58     │ 93     │ 35     │ 51     │ 32     │\n",
       "│ 9   │ 50     │ 92     │ 50     │ 25     │ 1      │\n",
       "│ 10  │ 66     │ 92     │ 52     │ 99     │ 64     │\n",
       "⋮\n",
       "│ 90  │ 4      │ 13     │ 25     │ 26     │ 95     │\n",
       "│ 91  │ 47     │ 10     │ 50     │ 94     │ 6      │\n",
       "│ 92  │ 28     │ 9      │ 20     │ 31     │ 47     │\n",
       "│ 93  │ 48     │ 9      │ 91     │ 41     │ 7      │\n",
       "│ 94  │ 55     │ 7      │ 12     │ 10     │ 61     │\n",
       "│ 95  │ 72     │ 4      │ 15     │ 13     │ 9      │\n",
       "│ 96  │ 71     │ 3      │ 45     │ 90     │ 3      │\n",
       "│ 97  │ 9      │ 2      │ 97     │ 83     │ 4      │\n",
       "│ 98  │ 93     │ 2      │ 79     │ 51     │ 17     │\n",
       "│ 99  │ 65     │ 1      │ 61     │ 10     │ 80     │\n",
       "│ 100 │ 20     │ 0      │ 55     │ 9      │ 79     │"
      ]
     },
     "execution_count": 45,
     "metadata": {},
     "output_type": "execute_result"
    }
   ],
   "source": [
    "sort!(df, (:A), rev = (true))\n",
    "#Sort specific column in dataframe, forward or reverse"
   ]
  },
  {
   "cell_type": "code",
   "execution_count": null,
   "metadata": {},
   "outputs": [],
   "source": []
  }
 ],
 "metadata": {
  "kernelspec": {
   "display_name": "Julia 1.0.3",
   "language": "julia",
   "name": "julia-1.0"
  },
  "language_info": {
   "file_extension": ".jl",
   "mimetype": "application/julia",
   "name": "julia",
   "version": "1.0.3"
  }
 },
 "nbformat": 4,
 "nbformat_minor": 1
}
